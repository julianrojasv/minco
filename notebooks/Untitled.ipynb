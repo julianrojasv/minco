{
 "cells": [
  {
   "cell_type": "code",
   "execution_count": 1,
   "metadata": {},
   "outputs": [
    {
     "name": "stderr",
     "output_type": "stream",
     "text": [
      "/miniconda/envs/optimus/lib/python3.7/site-packages/ipykernel/ipkernel.py:287: DeprecationWarning: `should_run_async` will not call `transform_cell` automatically in the future. Please pass the result to `transformed_cell` argument and any exception that happen during thetransform in `preprocessing_exc_tuple` in IPython 7.17 and above.\n",
      "  and should_run_async(code)\n"
     ]
    }
   ],
   "source": [
    "# Importar los paquetes necesarios\n",
    "%matplotlib inline\n",
    "import matplotlib.pyplot as plt\n",
    "import pandas as pd\n",
    "import numpy as np\n",
    "import seaborn as sns\n",
    "#plt.style.use('ggplot')\n",
    "import seaborn as sns\n",
    "SMALL_SIZE = 12\n",
    "plt.rc('font', size=SMALL_SIZE)\n",
    "plt.rc('axes', titlesize=SMALL_SIZE)\n",
    "plt.rc('xtick', labelsize=SMALL_SIZE)\n",
    "plt.rc('ytick', labelsize=SMALL_SIZE)\n",
    "plt.rc('legend', fontsize=SMALL_SIZE)\n",
    "plt.rcParams['figure.figsize'] = [10, 5]\n",
    "\n",
    "from random import seed\n",
    "from random import random\n",
    "from random import randint\n"
   ]
  },
  {
   "cell_type": "code",
   "execution_count": 2,
   "metadata": {},
   "outputs": [
    {
     "name": "stderr",
     "output_type": "stream",
     "text": [
      "/miniconda/envs/optimus/lib/python3.7/site-packages/kedro/framework/context/context.py:624: UserWarning: Credentials not found in your Kedro project config.\n",
      "No files found in ['/optimus/conf/base', '/optimus/conf/local'] matching the glob pattern(s): ['credentials*', 'credentials*/**', '**/credentials*']\n",
      "  str(exc)\n"
     ]
    },
    {
     "name": "stdout",
     "output_type": "stream",
     "text": [
      "2020-11-23 04:02:55,348 - root - INFO - ** Kedro project Project Clisham\n",
      "2020-11-23 04:02:55,352 - root - INFO - Defined global variable `context` and `catalog`\n",
      "2020-11-23 04:02:55,365 - root - INFO - Registered line magic `run_viz`\n"
     ]
    }
   ],
   "source": [
    "%reload_kedro"
   ]
  },
  {
   "cell_type": "code",
   "execution_count": 4,
   "metadata": {},
   "outputs": [
    {
     "name": "stdout",
     "output_type": "stream",
     "text": [
      "2020-11-23 04:03:36,740 - kedro.io.data_catalog - INFO - Loading data from `data_det` (CSVDataSet)...\n"
     ]
    }
   ],
   "source": [
    "df = context.io.load('data_det')"
   ]
  },
  {
   "cell_type": "code",
   "execution_count": 5,
   "metadata": {},
   "outputs": [
    {
     "name": "stdout",
     "output_type": "stream",
     "text": [
      "2020-11-23 04:05:19,306 - kedro.io.data_catalog - INFO - Loading data from `tag_dict_master` (CSVDataSet)...\n"
     ]
    }
   ],
   "source": [
    "tag_dict = context.io.load('tag_dict_master')"
   ]
  },
  {
   "cell_type": "code",
   "execution_count": null,
   "metadata": {},
   "outputs": [],
   "source": [
    "context.io.add_feed_dict."
   ]
  },
  {
   "cell_type": "code",
   "execution_count": null,
   "metadata": {},
   "outputs": [],
   "source": [
    "\"\"\"\n",
    "node(\n",
    "                func=create_tag_dict,\n",
    "                inputs=\"tag_dict_master\",\n",
    "                outputs=\"td\",\n",
    "                tags=[\"dict\"],\n",
    "            ),\n",
    "            node(\n",
    "                func=add_sag_features_by_hour,\n",
    "                inputs=[\"parameters\", \"data_primary\"],\n",
    "                outputs=\"data_sag_features_by_hour\",\n",
    "            ),\n",
    "            node(\n",
    "                func=add_across_features_by_hour,\n",
    "                inputs=[\"parameters\", \"data_sag_features_by_hour\"],\n",
    "                outputs=\"data_general_features\",\n",
    "            ),\n",
    "            node(\n",
    "                func=group_by_shift,\n",
    "                inputs=[\"parameters\", \"data_general_features\"],\n",
    "                outputs=\"data_aggregated\",\n",
    "            ),\n",
    "            node(\n",
    "                func=add_sag_features_by_shift,\n",
    "                inputs=[\"parameters\", \"data_aggregated\"],\n",
    "                outputs=\"data_sag_features_by_shift\",\n",
    "            ),\n",
    "            node(\n",
    "                func=add_across_features_by_shift,\n",
    "                inputs=[\"parameters\", \"data_sag_features_by_shift\"],\n",
    "                outputs=\"data_features_by_shift\",\n",
    "            ),\n",
    "            node(\n",
    "                func=create_target_counts,  # TODO: ML move to features_by_shift\n",
    "                inputs=[\n",
    "                    \"parameters\",\n",
    "                    \"td\",\n",
    "                    \"data_sag_features_by_hour\",\n",
    "                    \"data_features_by_shift\",\n",
    "                ],\n",
    "                outputs=\"data_aggregated_counts\",\n",
    "            ),\n",
    "            node(\n",
    "                func=create_target_lags,  # TODO: ML move to features_by_shift\n",
    "                inputs=[\"td\", \"data_aggregated_counts\", \"parameters\"],\n",
    "                outputs=\"data_all_features\",\n",
    "            ),\n",
    "        ],\n",
    "        tags=[\"features\", \"de\"],\n",
    "\"\"\""
   ]
  }
 ],
 "metadata": {
  "kernelspec": {
   "display_name": "ProjectClisham",
   "language": "python",
   "name": "python3"
  },
  "language_info": {
   "codemirror_mode": {
    "name": "ipython",
    "version": 3
   },
   "file_extension": ".py",
   "mimetype": "text/x-python",
   "name": "python",
   "nbconvert_exporter": "python",
   "pygments_lexer": "ipython3",
   "version": "3.7.9"
  }
 },
 "nbformat": 4,
 "nbformat_minor": 4
}
