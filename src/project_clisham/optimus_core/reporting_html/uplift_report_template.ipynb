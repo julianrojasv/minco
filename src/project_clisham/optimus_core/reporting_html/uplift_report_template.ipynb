{
 "cells": [
  {
   "cell_type": "code",
   "execution_count": null,
   "metadata": {},
   "outputs": [],
   "source": [
    "# # set for namespaced execution, otherwise leave empty\n",
    "# namespace = \"\"\n",
    "# catalog entry for tag dictionary\n",
    "cat_td = \"td\"\n",
    "# catalog entry for uplift report bulk output\n",
    "cat_output_df = f\"{namespace}.bulk_output\"\n",
    "# catalog entry for uplift report bulk ctrl\n",
    "cat_ctrl_df = f\"{namespace}.bulk_ctrl\""
   ]
  },
  {
   "cell_type": "code",
   "execution_count": null,
   "metadata": {},
   "outputs": [],
   "source": [
    "%matplotlib inline"
   ]
  },
  {
   "cell_type": "code",
   "execution_count": null,
   "metadata": {},
   "outputs": [],
   "source": [
    "from datetime import datetime\n",
    "from itertools import product\n",
    "import logging\n",
    "\n",
    "import kedro\n",
    "\n",
    "import numpy as np\n",
    "import pandas as pd\n",
    "import seaborn as sns\n",
    "import matplotlib\n",
    "from matplotlib import pyplot as plt"
   ]
  },
  {
   "cell_type": "code",
   "execution_count": null,
   "metadata": {},
   "outputs": [],
   "source": [
    "sns.set_context('notebook')"
   ]
  },
  {
   "cell_type": "code",
   "execution_count": null,
   "metadata": {},
   "outputs": [],
   "source": [
    "pd.set_option(\"max_columns\", 100)\n",
    "pd.set_option(\"max_rows\", 1000)"
   ]
  },
  {
   "cell_type": "code",
   "execution_count": null,
   "metadata": {},
   "outputs": [],
   "source": [
    "# silence warnings\n",
    "import warnings\n",
    "warnings.filterwarnings('ignore')"
   ]
  },
  {
   "cell_type": "code",
   "execution_count": null,
   "metadata": {},
   "outputs": [],
   "source": [
    "# load kedro context\n",
    "from project_clisham.optimus_core.reporting_html.utils import load_context, mprint\n",
    "logging.getLogger(\"kedro\").setLevel(logging.WARNING)\n",
    "\n",
    "context = load_context(max_depth=6)\n",
    "parameters = context.params\n",
    "io = context.io"
   ]
  },
  {
   "cell_type": "code",
   "execution_count": null,
   "metadata": {},
   "outputs": [],
   "source": [
    "# silence logging\n",
    "logging.getLogger(\"kedro.io\").setLevel(logging.WARNING)\n",
    "logging.getLogger(\"kedro.pipeline\").setLevel(logging.WARNING)\n",
    "logging.getLogger(\"kedro.config\").setLevel(logging.WARNING)"
   ]
  },
  {
   "cell_type": "code",
   "execution_count": null,
   "metadata": {},
   "outputs": [],
   "source": [
    "# load data\n",
    "td = io.load(cat_td)\n",
    "output_df = io.load(cat_output_df)\n",
    "ctrl_df = io.load(cat_ctrl_df)\n",
    "opt_target = parameters[namespace]['opt_target']"
   ]
  },
  {
   "cell_type": "markdown",
   "metadata": {},
   "source": [
    "# Uplift Report"
   ]
  },
  {
   "cell_type": "code",
   "execution_count": null,
   "metadata": {},
   "outputs": [],
   "source": [
    "report_timestamp = (\n",
    "    f\"#### generated {datetime.now().strftime('%b-%d-%Y %H:%M:%S %z')} \"\n",
    "    f\"with environment `{context.env}`\"\n",
    ")\n",
    "mprint(report_timestamp)"
   ]
  },
  {
   "cell_type": "markdown",
   "metadata": {},
   "source": [
    "## Results"
   ]
  },
  {
   "cell_type": "code",
   "execution_count": null,
   "metadata": {},
   "outputs": [],
   "source": [
    "target = td.select(\"target\", opt_target)[0]\n",
    "mprint(\"The goal was to *maximize* `{}`.\".format(td.name(target)))\n",
    "mprint(\n",
    "    \"Average uplift against predicted was **{:.3f}**, or **{:.2f}% (median)**.\".format(\n",
    "        output_df[(target, \"optimized_vs_predicted\")].mean(),\n",
    "        output_df[(target, \"optimized_vs_predicted_pct\")].median(),\n",
    "    )\n",
    ")\n",
    "mprint(\n",
    "    \"Average uplift against actual was **{:.3f}**, or **{:.2f}% (median)**.\".format(\n",
    "        output_df[(target, \"optimized_vs_actual\")].mean(),\n",
    "        output_df[(target, \"optimized_vs_actual_pct\")].median(),\n",
    "    )\n",
    ")"
   ]
  },
  {
   "cell_type": "markdown",
   "metadata": {},
   "source": [
    "### Details"
   ]
  },
  {
   "cell_type": "code",
   "execution_count": null,
   "metadata": {},
   "outputs": [],
   "source": [
    "output_df.filter(like='_vs_').describe()"
   ]
  },
  {
   "cell_type": "code",
   "execution_count": null,
   "metadata": {},
   "outputs": [],
   "source": [
    "fig, ax = plt.subplots(figsize=(12, 8))\n",
    "output_df.filter(items=product([target], ['actual', 'target_pred_current', 'target_pred_optimized'])).plot(ax=ax, color=['grey', 'blue', 'red'])\n",
    "plt.title('Uplift simulation timeline')\n",
    "plt.ylabel(td.name(target));"
   ]
  },
  {
   "cell_type": "markdown",
   "metadata": {},
   "source": [
    "## Controls"
   ]
  },
  {
   "cell_type": "code",
   "execution_count": null,
   "metadata": {},
   "outputs": [],
   "source": [
    "ctrl_df.describe()"
   ]
  },
  {
   "cell_type": "code",
   "execution_count": null,
   "metadata": {},
   "outputs": [],
   "source": [
    "def plot_me(sub_df):\n",
    "    \"\"\" Plot current and suggested control values \"\"\"\n",
    "    x = np.zeros((len(ctrl_df), 2))\n",
    "    x[:, 1] = 1\n",
    "    y = sub_df[[\"current\", \"suggested\"]].values\n",
    "\n",
    "    fig, ax = plt.subplots(figsize=(8, 6))\n",
    "    ax.plot(x.T, y.T, color='black', alpha=0.1, marker=\"o\")\n",
    "    plt.xticks(ticks=[0, 1], labels=[\"current\", \"suggested\"])\n",
    "    plt.ylabel(ctrl)\n",
    "    plt.title(f\"{td.name(ctrl)} suggestions\")\n",
    "    \n",
    "    for item in ([ax.title, ax.xaxis.label, ax.yaxis.label] + ax.get_xticklabels() + ax.get_yticklabels()):\n",
    "        item.set_fontsize(16);"
   ]
  },
  {
   "cell_type": "code",
   "execution_count": null,
   "metadata": {},
   "outputs": [],
   "source": [
    "all_controls = sorted(list(set(ctrl_df.columns.get_level_values(0))))"
   ]
  },
  {
   "cell_type": "code",
   "execution_count": null,
   "metadata": {},
   "outputs": [],
   "source": [
    "for ctrl in all_controls:\n",
    "    plot_me(ctrl_df[ctrl])"
   ]
  }
 ],
 "metadata": {
  "kernelspec": {
   "display_name": "optimus_project",
   "language": "python",
   "name": "python3"
  },
  "language_info": {
   "codemirror_mode": {
    "name": "ipython",
    "version": 3
   },
   "file_extension": ".py",
   "mimetype": "text/x-python",
   "name": "python",
   "nbconvert_exporter": "python",
   "pygments_lexer": "ipython3",
   "version": "3.7.7"
  }
 },
 "nbformat": 4,
 "nbformat_minor": 4
}