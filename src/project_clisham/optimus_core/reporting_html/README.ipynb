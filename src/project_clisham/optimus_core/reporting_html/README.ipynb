{
 "cells": [
  {
   "cell_type": "markdown",
   "metadata": {
    "nbsphinx": "hidden"
   },
   "source": [
    "Welcome to this README.md file.\n",
    "\n",
    "To run this notebook, use the section at the bottom of this notebook to set up a dummy catalog and parameters, as used in this REAME.\n",
    "\n",
    "This cell is hidden in built docs"
   ]
  },
  {
   "cell_type": "markdown",
   "metadata": {
    "collapsed": true
   },
   "source": [
    "# Reporting HTML\n",
    "\n",
    "Pipeline introduction"
   ]
  },
  {
   "cell_type": "markdown",
   "metadata": {},
   "source": [
    "## Overview\n",
    "\n",
    "Detailed overview of what pipeline can do"
   ]
  },
  {
   "cell_type": "markdown",
   "metadata": {},
   "source": [
    "## Parameters\n",
    "\n",
    "Pipeline parameters\n"
   ]
  },
  {
   "cell_type": "markdown",
   "metadata": {},
   "source": [
    "```yaml\n",
    "group_name:\n",
    "    param_name: 'value'              # Description\n",
    "```"
   ]
  },
  {
   "cell_type": "markdown",
   "metadata": {},
   "source": [
    "## Data Sets\n",
    "Overview of datasets\n",
    "\n",
    "### Inputs\n",
    "The pipeline requires the following input:\n",
    "- `ns.data`: Description\n",
    "\n",
    "### Outputs\n",
    "The pipeline creates the follownig outputs:\n",
    "- `ns.data`: Description\n",
    "\n",
    "### Intermediate Outputs\n",
    "The pipeline creates the follownig intermediate outputs:\n",
    "- `ns.data`: Description"
   ]
  },
  {
   "cell_type": "markdown",
   "metadata": {},
   "source": [
    "## Example Usage\n",
    "\n",
    "Walkthrough of usage"
   ]
  },
  {
   "cell_type": "markdown",
   "metadata": {},
   "source": [
    "## Pipeline Nodes"
   ]
  },
  {
   "cell_type": "markdown",
   "metadata": {},
   "source": [
    "### Node 1"
   ]
  },
  {
   "cell_type": "markdown",
   "metadata": {
    "nbsphinx": "hidden"
   },
   "source": [
    "## Set Up\n",
    "\n",
    "To set up a dummy catalog and parameters file so that this README can be executed, first run all of the cells below.\n",
    "\n",
    "This cell is hidden in built docs"
   ]
  },
  {
   "cell_type": "code",
   "execution_count": 1,
   "metadata": {
    "nbsphinx": "hidden"
   },
   "outputs": [
    {
     "name": "stdout",
     "output_type": "stream",
     "text": [
      "2020-08-05 09:02:10,198 - root - INFO - ** Kedro project optimus_pkg\n",
      "2020-08-05 09:02:10,209 - root - INFO - Defined global variable `context` and `catalog`\n",
      "2020-08-05 09:02:10,220 - root - INFO - Registered line magic `run_viz`\n"
     ]
    }
   ],
   "source": [
    "%reload_kedro"
   ]
  },
  {
   "cell_type": "markdown",
   "metadata": {
    "nbsphinx": "hidden"
   },
   "source": [
    "### Datasets\n",
    "\n",
    "This cell sets up all datasets needed by the readme, and adds them to the Kedro catalog"
   ]
  },
  {
   "cell_type": "code",
   "execution_count": 2,
   "metadata": {
    "nbsphinx": "hidden"
   },
   "outputs": [
    {
     "name": "stdout",
     "output_type": "stream",
     "text": [
      "2020-08-05 09:02:59,553 - kedro.io.data_catalog - INFO - Loading data from `reading_data` (MemoryDataSet)...\n"
     ]
    },
    {
     "data": {
      "text/html": [
       "<div>\n",
       "<style scoped>\n",
       "    .dataframe tbody tr th:only-of-type {\n",
       "        vertical-align: middle;\n",
       "    }\n",
       "\n",
       "    .dataframe tbody tr th {\n",
       "        vertical-align: top;\n",
       "    }\n",
       "\n",
       "    .dataframe thead th {\n",
       "        text-align: right;\n",
       "    }\n",
       "</style>\n",
       "<table border=\"1\" class=\"dataframe\">\n",
       "  <thead>\n",
       "    <tr style=\"text-align: right;\">\n",
       "      <th></th>\n",
       "      <th>datetime</th>\n",
       "      <th>reading</th>\n",
       "      <th>score</th>\n",
       "    </tr>\n",
       "  </thead>\n",
       "  <tbody>\n",
       "    <tr>\n",
       "      <th>0</th>\n",
       "      <td>2018-01-01 00:58:00</td>\n",
       "      <td>100</td>\n",
       "      <td>1.456</td>\n",
       "    </tr>\n",
       "    <tr>\n",
       "      <th>1</th>\n",
       "      <td>2018-01-01 00:59:45</td>\n",
       "      <td>48</td>\n",
       "      <td>0.245</td>\n",
       "    </tr>\n",
       "    <tr>\n",
       "      <th>2</th>\n",
       "      <td>2018-01-01 01:00:20</td>\n",
       "      <td>50</td>\n",
       "      <td>0.245</td>\n",
       "    </tr>\n",
       "    <tr>\n",
       "      <th>3</th>\n",
       "      <td>2018-01-01 01:01:00</td>\n",
       "      <td>55</td>\n",
       "      <td>0.445</td>\n",
       "    </tr>\n",
       "    <tr>\n",
       "      <th>4</th>\n",
       "      <td>2018-01-01 01:02:03</td>\n",
       "      <td>70</td>\n",
       "      <td>0.590</td>\n",
       "    </tr>\n",
       "    <tr>\n",
       "      <th>5</th>\n",
       "      <td>2018-01-01 01:02:59</td>\n",
       "      <td>120</td>\n",
       "      <td>0.670</td>\n",
       "    </tr>\n",
       "    <tr>\n",
       "      <th>6</th>\n",
       "      <td>2018-01-01 01:04:10</td>\n",
       "      <td>20</td>\n",
       "      <td>0.980</td>\n",
       "    </tr>\n",
       "  </tbody>\n",
       "</table>\n",
       "</div>"
      ],
      "text/plain": [
       "              datetime reading  score\n",
       "0  2018-01-01 00:58:00     100  1.456\n",
       "1  2018-01-01 00:59:45      48  0.245\n",
       "2  2018-01-01 01:00:20      50  0.245\n",
       "3  2018-01-01 01:01:00      55  0.445\n",
       "4  2018-01-01 01:02:03      70  0.590\n",
       "5  2018-01-01 01:02:59     120  0.670\n",
       "6  2018-01-01 01:04:10      20  0.980"
      ]
     },
     "execution_count": 2,
     "metadata": {},
     "output_type": "execute_result"
    }
   ],
   "source": [
    "import pandas as pd\n",
    "from kedro.io import MemoryDataSet\n",
    "\n",
    "catalog = context.catalog\n",
    "\n",
    "# Dataset\n",
    "catalog.add(\"reading_data\", MemoryDataSet(\n",
    "    data=pd.DataFrame(\n",
    "        [[\"2018-01-01 00:58:00\",\"100\", 1.456], \n",
    "         [\"2018-01-01 00:59:45\",\"48\", 0.245],\n",
    "         [\"2018-01-01 01:00:20\",\"50\", 0.245],\n",
    "         [\"2018-01-01 01:01:00\",\"55\", 0.445],\n",
    "         [\"2018-01-01 01:02:03\",\"70\", 0.59], \n",
    "         [\"2018-01-01 01:02:59\",\"120\", 0.67], \n",
    "         [\"2018-01-01 01:04:10\",\"20\", 0.98]], \n",
    "    columns=[\"datetime\", \"reading\", \"score\"])),\n",
    "    replace = True\n",
    ")\n",
    "catalog.load(\"reading_data\")"
   ]
  },
  {
   "cell_type": "markdown",
   "metadata": {
    "nbsphinx": "hidden"
   },
   "source": [
    "### Tag Dictionary\n",
    "\n",
    "This cell sets up the tag dictionary needed by the readme, and adds it to the Kedro catalog"
   ]
  },
  {
   "cell_type": "code",
   "execution_count": 3,
   "metadata": {
    "nbsphinx": "hidden"
   },
   "outputs": [
    {
     "name": "stdout",
     "output_type": "stream",
     "text": [
      "2020-08-05 09:03:37,574 - kedro.io.data_catalog - INFO - Loading data from `tag_dict` (MemoryDataSet)...\n"
     ]
    },
    {
     "data": {
      "text/html": [
       "<div>\n",
       "<style scoped>\n",
       "    .dataframe tbody tr th:only-of-type {\n",
       "        vertical-align: middle;\n",
       "    }\n",
       "\n",
       "    .dataframe tbody tr th {\n",
       "        vertical-align: top;\n",
       "    }\n",
       "\n",
       "    .dataframe thead th {\n",
       "        text-align: right;\n",
       "    }\n",
       "</style>\n",
       "<table border=\"1\" class=\"dataframe\">\n",
       "  <thead>\n",
       "    <tr style=\"text-align: right;\">\n",
       "      <th></th>\n",
       "      <th>tag</th>\n",
       "      <th>name</th>\n",
       "      <th>tag_type</th>\n",
       "      <th>data_type</th>\n",
       "      <th>unit</th>\n",
       "      <th>range_min</th>\n",
       "      <th>range_max</th>\n",
       "      <th>on_off_dependencies</th>\n",
       "      <th>derived</th>\n",
       "    </tr>\n",
       "  </thead>\n",
       "  <tbody>\n",
       "    <tr>\n",
       "      <th>0</th>\n",
       "      <td>reading</td>\n",
       "      <td>name a</td>\n",
       "      <td>input</td>\n",
       "      <td>numeric</td>\n",
       "      <td>Hz</td>\n",
       "      <td>10</td>\n",
       "      <td>100</td>\n",
       "      <td></td>\n",
       "      <td>None</td>\n",
       "    </tr>\n",
       "    <tr>\n",
       "      <th>1</th>\n",
       "      <td>score</td>\n",
       "      <td>name b</td>\n",
       "      <td>state</td>\n",
       "      <td>numeric</td>\n",
       "      <td>None</td>\n",
       "      <td>0</td>\n",
       "      <td>1</td>\n",
       "      <td></td>\n",
       "      <td>None</td>\n",
       "    </tr>\n",
       "  </tbody>\n",
       "</table>\n",
       "</div>"
      ],
      "text/plain": [
       "       tag    name tag_type data_type  unit  range_min  range_max  \\\n",
       "0  reading  name a    input   numeric    Hz         10        100   \n",
       "1    score  name b    state   numeric  None          0          1   \n",
       "\n",
       "  on_off_dependencies derived  \n",
       "0                        None  \n",
       "1                        None  "
      ]
     },
     "execution_count": 3,
     "metadata": {},
     "output_type": "execute_result"
    }
   ],
   "source": [
    "from optimus_pkg.core.tag_management import TagDict\n",
    "\n",
    "catalog.add(\"tag_dict\", MemoryDataSet(\n",
    "    data=TagDict(pd.DataFrame({\n",
    "        \"tag\": [\"reading\", \"score\"],\n",
    "        \"name\": [\"name a\", \"name b\"],\n",
    "        \"tag_type\": [\"input\", \"state\"],\n",
    "        \"data_type\": [\"numeric\", \"numeric\"],\n",
    "        \"unit\": [\"Hz\", None],\n",
    "        \"range_min\": [10, 0],\n",
    "        \"range_max\": [100, 1],\n",
    "        \"on_off_dependencies\": [None, None],\n",
    "        \"derived\": [None, None]\n",
    "    }))),\n",
    "    replace = True\n",
    ")\n",
    "catalog.load(\"tag_dict\").to_frame()"
   ]
  },
  {
   "cell_type": "markdown",
   "metadata": {
    "nbsphinx": "hidden"
   },
   "source": [
    "### Parameters\n",
    "\n",
    "This cell sets up all parameters needed by the readme, and adds them to the Kedro catalog"
   ]
  },
  {
   "cell_type": "code",
   "execution_count": 4,
   "metadata": {
    "nbsphinx": "hidden"
   },
   "outputs": [
    {
     "name": "stdout",
     "output_type": "stream",
     "text": [
      "2020-08-05 09:04:25,078 - kedro.io.data_catalog - INFO - Loading data from `params:example_clean` (MemoryDataSet)...\n"
     ]
    },
    {
     "data": {
      "text/plain": [
       "{'datetime_col': 'datetime',\n",
       " 'outlier': 'drop',\n",
       " 'pipeline_timezone': 'UTC',\n",
       " 'timestamp': {'type': 'timestamp',\n",
       "  'timezone': 'Etc/UTC',\n",
       "  'format': '%Y-%m-%d %H:%M:%S'},\n",
       " 'dedup': {'subset': ['timestamp']},\n",
       " 'round_timestamps': {'frequency': '1min'}}"
      ]
     },
     "execution_count": 4,
     "metadata": {},
     "output_type": "execute_result"
    }
   ],
   "source": [
    "params = {'datetime_col': 'datetime',\n",
    "          'outlier': 'drop',\n",
    "          'pipeline_timezone': 'UTC',\n",
    "          'timestamp': {'type': 'timestamp',\n",
    "                        'timezone': 'Etc/UTC',\n",
    "                        'format': '%Y-%m-%d %H:%M:%S'},\n",
    "          'dedup': {'subset': ['timestamp']},\n",
    "          'round_timestamps': {'frequency': '1min'}\n",
    "         }\n",
    "\n",
    "catalog.add_feed_dict({'params:example_clean': params}, replace=True)\n",
    "\n",
    "catalog.load(\"params:example_clean\")"
   ]
  }
 ],
 "metadata": {
  "celltoolbar": "Edit Metadata",
  "kernelspec": {
   "display_name": "optimus_pkg",
   "language": "python",
   "name": "python3"
  },
  "language_info": {
   "codemirror_mode": {
    "name": "ipython",
    "version": 3
   },
   "file_extension": ".py",
   "mimetype": "text/x-python",
   "name": "python",
   "nbconvert_exporter": "python",
   "pygments_lexer": "ipython3",
   "version": "3.7.7"
  }
 },
 "nbformat": 4,
 "nbformat_minor": 1
}
